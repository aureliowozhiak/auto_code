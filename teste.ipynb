{
 "cells": [
  {
   "cell_type": "code",
   "execution_count": 9,
   "metadata": {},
   "outputs": [],
   "source": [
    "from auto_code import AutoCode\n",
    "AC = AutoCode()"
   ]
  },
  {
   "cell_type": "code",
   "execution_count": 6,
   "metadata": {},
   "outputs": [],
   "source": [
    "AC.create_class(\"LinearRegression\", \"Receives a dataframe, and the 2 columns name to create a linear regression e show results and plots, usign sklearn\")"
   ]
  },
  {
   "cell_type": "code",
   "execution_count": 37,
   "metadata": {},
   "outputs": [],
   "source": [
    "to_do = {\n",
    "    \"MathOperation\" : \"addition, subtraction, division and multiplication\",\n",
    "    \"SQLiteConnection\" : \"connection in sqlite\",\n",
    "    \"CRUD\" : \"methods to crud in SQLITE\"\n",
    "}"
   ]
  },
  {
   "cell_type": "code",
   "execution_count": 2,
   "metadata": {},
   "outputs": [],
   "source": [
    "to_do = {\n",
    "    \"HistoriaAfrica\" : \"fale um pouco da historia da africa\",\n",
    "    \"GuerraGolfo\" : \"escreva um texto completo sobre a guerra do golfo\",\n",
    "    \"11Setembro\" : \"me conte o que foi o 11 de setembro\"\n",
    "}"
   ]
  },
  {
   "cell_type": "code",
   "execution_count": 3,
   "metadata": {},
   "outputs": [],
   "source": [
    "from auto_code import AutoCode\n",
    "AC = AutoCode()\n",
    "\n",
    "for key, value in to_do.items():\n",
    "    AC.create_file(f\"{key}.txt\",AC.get_openai_response_text(value))"
   ]
  },
  {
   "cell_type": "code",
   "execution_count": 8,
   "metadata": {},
   "outputs": [],
   "source": [
    "for key, value in to_do.items():\n",
    "    AC.create_class(key,value)"
   ]
  },
  {
   "cell_type": "code",
   "execution_count": 1,
   "metadata": {},
   "outputs": [],
   "source": []
  },
  {
   "cell_type": "code",
   "execution_count": 11,
   "metadata": {},
   "outputs": [],
   "source": [
    "temas = AC.get_openai_response_text(\"Temas para blog de tecnologia\")"
   ]
  },
  {
   "cell_type": "code",
   "execution_count": 14,
   "metadata": {},
   "outputs": [],
   "source": [
    "temas_lista = temas.split(\"\\n\")"
   ]
  },
  {
   "cell_type": "code",
   "execution_count": 19,
   "metadata": {},
   "outputs": [],
   "source": [
    "temas_blog = []\n",
    "for tema in temas_lista:\n",
    "    if tema != \"\":\n",
    "       temas_blog.append(tema)"
   ]
  },
  {
   "cell_type": "code",
   "execution_count": 24,
   "metadata": {},
   "outputs": [],
   "source": [
    "textos = {}\n",
    "for t in temas_blog[:2]:\n",
    "    textos[t] = AC.get_openai_response_text(f\"crie um texto para blog sobre: {t}\")"
   ]
  },
  {
   "cell_type": "code",
   "execution_count": 28,
   "metadata": {},
   "outputs": [
    {
     "data": {
      "text/plain": [
       "dict_keys(['1. Como back-ups e segurança salvam seus dados', '2. O futuro da computação em nuvem'])"
      ]
     },
     "execution_count": 28,
     "metadata": {},
     "output_type": "execute_result"
    }
   ],
   "source": [
    "textos.keys()"
   ]
  },
  {
   "cell_type": "code",
   "execution_count": 29,
   "metadata": {},
   "outputs": [
    {
     "name": "stdout",
     "output_type": "stream",
     "text": [
      "\n",
      "\n",
      "No mundo de hoje, armazenar dados e gerenciar informações confidenciais tornou-se um desafio. Os dados são vulneráveis a falhas e a ataques cibernéticos. Controles de segurança e backups são cruciais para prevenir o roubo ou perda de dados preciosos.\n",
      "\n",
      "Existem dois tipos principais de segurança, incluindo segurança da informação e segurança de redes. Ambas são necessárias para garantir que as informações confidenciais permaneçam protegidas contra ameaças externas, roubo de identidade e outras formas de infração. Algumas estratégias chave de segurança são criptografia de dados, gerenciamento de senhas e análise de amenazas.\n",
      "\n",
      "Backups são ainda mais importantes para as empresas. Backups oferecem uma camada adicional de proteção contra falhas ou corrupção de dados. Crie backups regulares de toda a informação crítica da empresa. Estes backups podem ser armazenados em discos rígidos externos, unidades de armazenamento em nuvem ou servidores locais. A completude das cópias de backup também é extremamente importante. Sempre teste ou verifique as cópias de segurança ao menos uma vez por mês para verificar se as informações estão acessíveis e completas.\n",
      "\n",
      "Por fim, toda a organização deve procurar consultorias especializadas para monitoramento regular e gerenciamento de ameaças. As consultorias podem ajudar a projetar e implementar melhorias de segurança contundentes para manter os dados de sua empresa seguros e bem protegidos.\n",
      "\n",
      "Em resumo, algumas estratégias chave para proteger os dados e promover a segurança da informação incluem: criptografia de dados, backups regulares, gerenciamento de senhas e consultorias especializadas. Estas ferramentas ajudam a garantir que os dados confidenciais da sua empresa permaneçam seguros e protegidos.\n"
     ]
    }
   ],
   "source": [
    "print(textos['1. Como back-ups e segurança salvam seus dados'])"
   ]
  },
  {
   "cell_type": "code",
   "execution_count": null,
   "metadata": {},
   "outputs": [],
   "source": []
  }
 ],
 "metadata": {
  "kernelspec": {
   "display_name": "Python 3",
   "language": "python",
   "name": "python3"
  },
  "language_info": {
   "codemirror_mode": {
    "name": "ipython",
    "version": 3
   },
   "file_extension": ".py",
   "mimetype": "text/x-python",
   "name": "python",
   "nbconvert_exporter": "python",
   "pygments_lexer": "ipython3",
   "version": "3.7.9"
  },
  "orig_nbformat": 4,
  "vscode": {
   "interpreter": {
    "hash": "786a1919b5bedd90bd750daa6dc2a54c55522146aee0643b5f1a90fd4789e85b"
   }
  }
 },
 "nbformat": 4,
 "nbformat_minor": 2
}
