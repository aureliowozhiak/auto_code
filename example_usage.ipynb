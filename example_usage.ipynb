{
 "cells": [
  {
   "cell_type": "code",
   "execution_count": 4,
   "metadata": {},
   "outputs": [],
   "source": [
    "from auto_code import AutoCode\n",
    "code_generator = AutoCode()"
   ]
  },
  {
   "cell_type": "code",
   "execution_count": 5,
   "metadata": {},
   "outputs": [
    {
     "data": {
      "text/plain": [
       "'\\n\\nA Copa do Mundo de 2002 ficará para sempre lembrada como um dos eventos mais emocionantes da história do futebol. Foi uma Copa que trouxe o melhor do futebol mundial para o palco, apresentando jogos emocionantes e uma grande variedade de estilos de jogos.\\n\\nO Brasil foi a receber a Copa depois de 18 anos, e todas as expectativas eram de um grande show. Os fãs de todo o mundo se reuniram para aproveitar o torneio e os brasileiros não poderiam estar mais ansiosos para torcer e gritar \"É Campeão\" quando Ronaldinho acertou um belo chute de três pontos para garantir a vitória e a Copa para o Brasil.\\n\\nOs jogos foram realizados nos estados do Rio de Janeiro, São Paulo, Paraná, Minas Gerais e Bahia, e a seleção brasileira se tornou a grande campeã do torneio. Eles venceram a Alemanha por 2 a 0 na final, levantando a taça para um país inteiro e tornando-se os primeiros brasileiros campeões da Copa.\\n\\nA Copa de 2002 foi uma Copa de vitórias inesquecíveis para o Brasil, e que serviu como espelho para o que o brasileiro pode alcançar com o esporte. Os jogadores lutaram por seus sonhos e mostraram ao mundo que o futebol brasileiro é visto como um dos melhores do mundo. Foi uma Copa que marcará a história do esporte para sempre.'"
      ]
     },
     "execution_count": 5,
     "metadata": {},
     "output_type": "execute_result"
    }
   ],
   "source": [
    "code_generator.get_openai_response_text(\"crie um texto falando sobre a copa de 2002\")"
   ]
  },
  {
   "cell_type": "code",
   "execution_count": 30,
   "metadata": {},
   "outputs": [],
   "source": [
    "def update_if_not_equal(x, y):\n",
    "    if x != y:\n",
    "        y = x\n",
    "    return x, y"
   ]
  },
  {
   "cell_type": "code",
   "execution_count": null,
   "metadata": {},
   "outputs": [],
   "source": []
  },
  {
   "cell_type": "code",
   "execution_count": 32,
   "metadata": {},
   "outputs": [
    {
     "data": {
      "text/plain": [
       "False"
      ]
     },
     "execution_count": 32,
     "metadata": {},
     "output_type": "execute_result"
    }
   ],
   "source": [
    "code_lang = \"Python\"\n",
    "default_code_lang = \"Java\"\n",
    "code_lang == default_code_lang"
   ]
  },
  {
   "cell_type": "code",
   "execution_count": 33,
   "metadata": {},
   "outputs": [
    {
     "data": {
      "text/plain": [
       "True"
      ]
     },
     "execution_count": 33,
     "metadata": {},
     "output_type": "execute_result"
    }
   ],
   "source": [
    "code_lang, default_code_lang = update_if_not_equal(code_lang, default_code_lang)\n",
    "code_lang == default_code_lang"
   ]
  },
  {
   "cell_type": "code",
   "execution_count": 35,
   "metadata": {},
   "outputs": [
    {
     "data": {
      "text/plain": [
       "'Python'"
      ]
     },
     "execution_count": 35,
     "metadata": {},
     "output_type": "execute_result"
    }
   ],
   "source": [
    "default_code_lang"
   ]
  },
  {
   "cell_type": "code",
   "execution_count": 9,
   "metadata": {},
   "outputs": [],
   "source": [
    "to_do = {\n",
    "    \"SQLite Connection\" : \"Connection DB\",\n",
    "    \"CRUD\" : \"CRUD to SQLite usign 'from sqlite_connection import SQLiteConnection'\",\n",
    "    \"Data Analitycs\" : \"Data Analitycs from SQLite DB\"\n",
    "}"
   ]
  },
  {
   "cell_type": "code",
   "execution_count": 10,
   "metadata": {},
   "outputs": [],
   "source": [
    "for key, value in to_do.items():\n",
    "    code_generator.create_code(key, value)"
   ]
  },
  {
   "cell_type": "code",
   "execution_count": 12,
   "metadata": {},
   "outputs": [],
   "source": [
    "to_do_blog = {\n",
    "    \"marketing\" : \"Escreva um texto, em estilo de blog, sobre o que é marketing, com formatação markdown\",\n",
    "    \"copy curso\" : \"Escreva um texto, em estilo de copy, vendendo um curso de captação de clientes para donos de imobiliarias, com formatação markdown\",\n",
    "    \"texto instagram\" : \"Escreva um texto, para o instagram, sobre o que é marketing\"\n",
    "}"
   ]
  },
  {
   "cell_type": "code",
   "execution_count": 13,
   "metadata": {},
   "outputs": [],
   "source": [
    "for file_name, file_content in to_do_blog.items():\n",
    "    code_generator.create_file(f\"{file_name.replace(' ', '_')}.md\", code_generator.get_openai_response_text(file_content))"
   ]
  },
  {
   "cell_type": "code",
   "execution_count": null,
   "metadata": {},
   "outputs": [],
   "source": []
  }
 ],
 "metadata": {
  "kernelspec": {
   "display_name": "Python 3",
   "language": "python",
   "name": "python3"
  },
  "language_info": {
   "codemirror_mode": {
    "name": "ipython",
    "version": 3
   },
   "file_extension": ".py",
   "mimetype": "text/x-python",
   "name": "python",
   "nbconvert_exporter": "python",
   "pygments_lexer": "ipython3",
   "version": "3.7.9"
  },
  "orig_nbformat": 4,
  "vscode": {
   "interpreter": {
    "hash": "786a1919b5bedd90bd750daa6dc2a54c55522146aee0643b5f1a90fd4789e85b"
   }
  }
 },
 "nbformat": 4,
 "nbformat_minor": 2
}
